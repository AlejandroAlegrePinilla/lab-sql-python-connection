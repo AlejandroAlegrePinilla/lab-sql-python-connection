{
 "cells": [
  {
   "cell_type": "code",
   "execution_count": 1,
   "metadata": {},
   "outputs": [],
   "source": [
    "from sqlalchemy import create_engine\n",
    "import pandas as pd\n",
    "\n",
    "# 1. Create the DB connection function\n",
    "def create_db_connection(username, password, host, database):\n",
    "    connection_str = f'mysql+pymysql://{username}:{password}@{host}/{database}'\n",
    "    engine = create_engine(connection_str)\n",
    "    return engine\n",
    "\n",
    "# 2. Retrieve rental data for a specific month and year\n",
    "def rentals_month(engine, month, year):\n",
    "    query = f\"\"\"\n",
    "        SELECT customer_id, rental_id, rental_date\n",
    "        FROM rental\n",
    "        WHERE MONTH(rental_date) = {month} AND YEAR(rental_date) = {year};\n",
    "    \"\"\"\n",
    "    df = pd.read_sql(query, con=engine)\n",
    "    return df\n",
    "\n",
    "# 3. Count rentals for each customer in a given month and year\n",
    "def rental_count_month(df, month, year):\n",
    "    rental_count = df.groupby('customer_id').size().reset_index(name=f'rentals_{month:02}_{year}')\n",
    "    return rental_count\n",
    "\n",
    "# 4. Compare rental activity between two months\n",
    "def compare_rentals(df_may, df_june):\n",
    "    combined_df = pd.merge(df_may, df_june, on='customer_id', how='outer').fillna(0)\n",
    "    may_col = df_may.columns[1]\n",
    "    june_col = df_june.columns[1]\n",
    "    combined_df['difference'] = combined_df[june_col] - combined_df[may_col]\n",
    "    return combined_df\n",
    "\n",
    "# Example of how the functions can be used (you will need the correct credentials)\n",
    "# engine = create_db_connection(\"root\", \"password\", \"localhost\", \"sakila\")\n",
    "# may_rentals = rentals_month(engine, 5, 2005)\n",
    "# june_rentals = rentals_month(engine, 6, 2005)\n",
    "# may_rental_counts = rental_count_month(may_rentals, 5, 2005)\n",
    "# june_rental_counts = rental_count_month(june_rentals, 6, 2005)\n",
    "# comparison_df = compare_rentals(may_rental_counts, june_rental_counts)\n"
   ]
  },
  {
   "cell_type": "code",
   "execution_count": null,
   "metadata": {},
   "outputs": [],
   "source": []
  }
 ],
 "metadata": {
  "kernelspec": {
   "display_name": "base",
   "language": "python",
   "name": "python3"
  },
  "language_info": {
   "codemirror_mode": {
    "name": "ipython",
    "version": 3
   },
   "file_extension": ".py",
   "mimetype": "text/x-python",
   "name": "python",
   "nbconvert_exporter": "python",
   "pygments_lexer": "ipython3",
   "version": "3.11.7"
  }
 },
 "nbformat": 4,
 "nbformat_minor": 2
}
